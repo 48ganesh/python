{
  "nbformat": 4,
  "nbformat_minor": 0,
  "metadata": {
    "colab": {
      "provenance": [],
      "authorship_tag": "ABX9TyMQbUOhy/KbMt2LGt7D7LES",
      "include_colab_link": true
    },
    "kernelspec": {
      "name": "python3",
      "display_name": "Python 3"
    },
    "language_info": {
      "name": "python"
    }
  },
  "cells": [
    {
      "cell_type": "markdown",
      "metadata": {
        "id": "view-in-github",
        "colab_type": "text"
      },
      "source": [
        "<a href=\"https://colab.research.google.com/github/48ganesh/python/blob/main/week4.ipynb\" target=\"_parent\"><img src=\"https://colab.research.google.com/assets/colab-badge.svg\" alt=\"Open In Colab\"/></a>"
      ]
    },
    {
      "cell_type": "code",
      "execution_count": null,
      "metadata": {
        "id": "FG7Dnr5t_1RF"
      },
      "outputs": [],
      "source": [
        "#1\n",
        "class vehicle:\n",
        "    def __init__(self, max_speed, mileage):\n",
        "        self.max_speed = max_speed\n",
        "        self.mileage = mileage\n",
        "        \n",
        "        \n",
        "car = vehicle(120,20 )\n",
        "print(car.max_speed, car.mileage)\n",
        "120 20\n",
        "#2\n",
        "class vehicle:\n",
        "    pass\n",
        "#3\n",
        "class vehicle:\n",
        "    def __init__(self, name, mileage, capacity):\n",
        "        self.name = name\n",
        "        self.mileage = mileage\n",
        "        self.capacity = capacity\n",
        "class Bus(vehicle):\n",
        "    pass\n",
        "class Vehicle:\n",
        "    def __init__(self, name, max_speed, mileage):\n",
        "        self.name = name\n",
        "        self.max_speed = max_speed\n",
        "        self.mileage = mileage\n",
        "    def bus_seating_capacity(self, capacity):\n",
        "        return capacity\n",
        "class Bus(Vehicle):\n",
        "    \n",
        "    def seating_capacity(self, capacity=50):\n",
        "        return super().bus_seating_capacity(capacity=50)\n",
        "bus = Bus(\"Tesla\", 180, 20)\n",
        "print(bus.seating_capacity())\n",
        "50\n",
        "class vehicle:\n",
        "    def __init__(self, name, mileage, capacity):\n",
        "        self.name = name\n",
        "        self.mileage = mileage\n",
        "        self.capacity = capacity\n",
        "    def busfare(self):\n",
        "        return self.capacity * 100\n",
        "class Bus(vehicle):\n",
        "    def busfare(self):\n",
        "        amount = super().busfare()\n",
        "        amount += amount * 10 / 100\n",
        "        return amount\n",
        "bus = Bus(\"Tesla\", 10, 40)\n",
        "print(\"Total Bus fare is:\", bus.busfare())\n",
        "Total Bus fare is: 4400.0"
      ]
    }
  ]
}